{
 "nbformat": 4,
 "nbformat_minor": 2,
 "metadata": {
  "language_info": {
   "name": "python",
   "codemirror_mode": {
    "name": "ipython",
    "version": 3
   },
   "version": "3.6.10-final"
  },
  "orig_nbformat": 2,
  "file_extension": ".py",
  "mimetype": "text/x-python",
  "name": "python",
  "npconvert_exporter": "python",
  "pygments_lexer": "ipython3",
  "version": 3,
  "kernelspec": {
   "name": "python361064bit44e439ebc2cc4be1b2702145ac5a3ea8",
   "display_name": "Python 3.6.10 64-bit"
  }
 },
 "cells": [
  {
   "cell_type": "code",
   "execution_count": 1,
   "metadata": {},
   "outputs": [],
   "source": [
    "import numpy as np"
   ]
  },
  {
   "cell_type": "code",
   "execution_count": 75,
   "metadata": {},
   "outputs": [],
   "source": [
    "class Neuron:\n",
    "\n",
    "    def __init__(self,input_len):\n",
    "        self.bias = 1 # init bias to 1\n",
    "        self.w = np.random.rand(input_len) # random value weight list\n",
    "        self.output = 0 # init output to 0\n",
    "\n",
    "    def linearActivation(self,x):\n",
    "        self.output = self.bias\n",
    "        for i in range(0,len(x)):\n",
    "            self.output = self.output + self.w[i] * x[i]\n",
    "        return self.output\n",
    "\n",
    "    def reluActivation(self,x):\n",
    "        self.output = self.bias\n",
    "        for i in range(0,len(x)):\n",
    "            self.output = self.output + self.w[i] * x[i]\n",
    "        if(self.output > 0):\n",
    "            self.output = self.output\n",
    "        else:\n",
    "            self.output = 0\n",
    "        return self.output\n",
    "\n",
    "    def tanhActivation(self,x):\n",
    "        self.output = self.bias\n",
    "        for i in range(0,len(x)):\n",
    "            self.output = self.output + self.w[i] * x[i]\n",
    "        self.output = np.tanh(self.output)\n",
    "        return self.output\n",
    "\n",
    "    def sigmoidActivation(self,x):\n",
    "        self.output = self.bias\n",
    "        for i in range(0,len(x)):\n",
    "            self.output = self.output + self.w[i] * x[i]\n",
    "        self.output = 1 / (1+np.exp(-self.output))\n",
    "        return self.output\n",
    "\n",
    "    def softmaxActivation(self,x,k):\n",
    "        self.output = self.bias\n",
    "        for i in range(0,len(x)):\n",
    "            self.output = self.output + np.exp(self.w[i] * x[i])\n",
    "        self.output = np.exp(x[k]) / self.output\n",
    "        return self.output"
   ]
  },
  {
   "cell_type": "code",
   "execution_count": 76,
   "metadata": {},
   "outputs": [
    {
     "name": "stdout",
     "output_type": "stream",
     "text": "1\n[0.76926847 0.13038469 0.43471519 0.06053955]\n1.3949078873850969\n0\n2.394907887385097\n0.9164381793760249\n2.394907887385097\n0.983509127158822\n0.39370362045585033\n"
    }
   ],
   "source": [
    "x = np.array([1,1,1,1])\n",
    "myNeuron = Neuron(len(x))\n",
    "print(myNeuron.bias)\n",
    "print(myNeuron.w)\n",
    "print(np.sum(myNeuron.w))\n",
    "print(myNeuron.output)\n",
    "\n",
    "\n",
    "print(myNeuron.linearActivation(x))\n",
    "print(myNeuron.sigmoidActivation(x))\n",
    "print(myNeuron.reluActivation(x))\n",
    "print(myNeuron.tanhActivation(x))\n",
    "print(myNeuron.softmaxActivation(x,3))"
   ]
  },
  {
   "cell_type": "code",
   "execution_count": null,
   "metadata": {},
   "outputs": [],
   "source": []
  }
 ]
}