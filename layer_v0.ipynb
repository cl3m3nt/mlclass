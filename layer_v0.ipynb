{
 "nbformat": 4,
 "nbformat_minor": 2,
 "metadata": {
  "language_info": {
   "name": "python",
   "codemirror_mode": {
    "name": "ipython",
    "version": 3
   },
   "version": "3.6.10-final"
  },
  "orig_nbformat": 2,
  "file_extension": ".py",
  "mimetype": "text/x-python",
  "name": "python",
  "npconvert_exporter": "python",
  "pygments_lexer": "ipython3",
  "version": 3,
  "kernelspec": {
   "name": "python361064bit44e439ebc2cc4be1b2702145ac5a3ea8",
   "display_name": "Python 3.6.10 64-bit"
  }
 },
 "cells": [
  {
   "cell_type": "code",
   "execution_count": 29,
   "metadata": {},
   "outputs": [],
   "source": [
    "import numpy as np"
   ]
  },
  {
   "cell_type": "code",
   "execution_count": 47,
   "metadata": {},
   "outputs": [],
   "source": [
    "class Neuron:\n",
    "\n",
    "    def __init__(self,input_len,idx):\n",
    "        self.bias = 1 # init bias to 1\n",
    "        self.w = np.random.rand(input_len) # random value weight list\n",
    "        self.output = 0 # init output to 0\n",
    "        self.index = idx\n",
    "\n",
    "    def printIndex(self):\n",
    "        print(\"Neuron: \",self.index)\n",
    "\n",
    "    def linearActivation(self,x):\n",
    "        self.output = self.bias\n",
    "        for i in range(0,len(x)):\n",
    "            self.output = self.output + self.w[i] * x[i]\n",
    "        return self.output\n",
    "\n",
    "    def reluActivation(self,x):\n",
    "        self.output = self.bias\n",
    "        for i in range(0,len(x)):\n",
    "            self.output = self.output + self.w[i] * x[i]\n",
    "        if(self.output > 0):\n",
    "            self.output = self.output\n",
    "        else:\n",
    "            self.output = 0\n",
    "        return self.output\n",
    "\n",
    "    def tanhActivation(self,x):\n",
    "        self.output = self.bias\n",
    "        for i in range(0,len(x)):\n",
    "            self.output = self.output + self.w[i] * x[i]\n",
    "        self.output = np.tanh(self.output)\n",
    "        return self.output\n",
    "\n",
    "    def sigmoidActivation(self,x):\n",
    "        self.output = self.bias\n",
    "        for i in range(0,len(x)):\n",
    "            self.output = self.output + self.w[i] * x[i]\n",
    "        self.output = 1 / (1+np.exp(-self.output))\n",
    "        return self.output\n",
    "\n",
    "    def softmaxActivation(self,x,k):\n",
    "        self.output = self.bias\n",
    "        for i in range(0,len(x)):\n",
    "            self.output = self.output + np.exp(self.w[i] * x[i])\n",
    "        self.output = np.exp(x[k]) / self.output\n",
    "        return self.output"
   ]
  },
  {
   "cell_type": "code",
   "execution_count": 48,
   "metadata": {},
   "outputs": [],
   "source": [
    "class Layer:\n",
    "\n",
    "    def __init__(self,lay_size):\n",
    "        self.layer_size = lay_size\n",
    "        self.neurons = []\n",
    "        self.output_size = lay_size\n",
    "    \n",
    "    def createNeurons(self,input_size):\n",
    "        for i in range(0,self.layer_size):\n",
    "            self.neurons.append(Neuron(input_size,i))\n",
    "        return self.neurons"
   ]
  },
  {
   "cell_type": "code",
   "execution_count": 54,
   "metadata": {},
   "outputs": [
    {
     "name": "stdout",
     "output_type": "stream",
     "text": "Neuron:  0\n[0.34719865 0.22657607 0.08353575 0.714856  ]\nNeuron:  1\n[0.17350978 0.40862982 0.53366756 0.83810288]\nNeuron:  2\n[0.43242233 0.61909975 0.70812032 0.3156826 ]\nNeuron:  3\n[0.44673954 0.42742882 0.74643964 0.1241445 ]\nNeuron:  4\n[0.41024932 0.64809434 0.96026498 0.19597283]\nNeuron:  5\n[0.82782449 0.78995328 0.2386706  0.61197339]\nNeuron:  6\n[0.6030477  0.3277696  0.24834677 0.93522441]\nNeuron:  7\n[0.36444184 0.36981625 0.48595982 0.90597112]\nNeuron:  8\n[0.77783326 0.48636218 0.89021089 0.872197  ]\nNeuron:  9\n[0.87752951 0.81799373 0.77181475 0.18766998]\n"
    }
   ],
   "source": [
    "x = [1,1,1,1]\n",
    "layer_size = 10\n",
    "myLayer = Layer(layer_size)\n",
    "myLayerNeurons = myLayer.createNeurons(len(x))\n",
    "for i in range(0,layer_size):\n",
    "    myLayerNeurons[i].printIndex()\n",
    "    print(myLayerNeurons[i].w)"
   ]
  },
  {
   "cell_type": "code",
   "execution_count": null,
   "metadata": {},
   "outputs": [],
   "source": []
  }
 ]
}