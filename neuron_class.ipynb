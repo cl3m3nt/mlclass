{
 "nbformat": 4,
 "nbformat_minor": 2,
 "metadata": {
  "language_info": {
   "name": "python",
   "codemirror_mode": {
    "name": "ipython",
    "version": 3
   },
   "version": "3.6.10-final"
  },
  "orig_nbformat": 2,
  "file_extension": ".py",
  "mimetype": "text/x-python",
  "name": "python",
  "npconvert_exporter": "python",
  "pygments_lexer": "ipython3",
  "version": 3,
  "kernelspec": {
   "name": "python361064bit44e439ebc2cc4be1b2702145ac5a3ea8",
   "display_name": "Python 3.6.10 64-bit"
  }
 },
 "cells": [
  {
   "cell_type": "code",
   "execution_count": 1,
   "metadata": {},
   "outputs": [],
   "source": [
    "# https://www.w3schools.com/python/python_classes.asp"
   ]
  },
  {
   "cell_type": "code",
   "execution_count": 2,
   "metadata": {},
   "outputs": [],
   "source": [
    "import matplotlib.pyplot as plt\n",
    "import numpy as np"
   ]
  },
  {
   "cell_type": "code",
   "execution_count": 40,
   "metadata": {},
   "outputs": [
    {
     "name": "stdout",
     "output_type": "stream",
     "text": "5\n"
    }
   ],
   "source": [
    "class simpleClass:\n",
    "    x =5\n",
    "myClass = simpleClass()\n",
    "print(myClass.x)"
   ]
  },
  {
   "cell_type": "code",
   "execution_count": 41,
   "metadata": {},
   "outputs": [
    {
     "name": "stdout",
     "output_type": "stream",
     "text": "0\n1\nHi I'm a simple Neuron object\n"
    }
   ],
   "source": [
    "class simpleNeuron:\n",
    "    '''__init__ method to initiate input weigths '''\n",
    "    def __init__(self,weigth0,weigth1):\n",
    "        self.w0 = weigth0\n",
    "        self.w1 = weigth1\n",
    "\n",
    "    ''' helloNeuron to say I from neuron'''\n",
    "    def helloNeuron(self): # self required otherwise method error\n",
    "        print(\"Hi I'm a simple Neuron object\")\n",
    "\n",
    "mySimpleNeuron = simpleNeuron(weigth0=0,weigth1=1) # passing weight0 and weight1 with value 1\n",
    "print(mySimpleNeuron.w0)\n",
    "print(mySimpleNeuron.w1)\n",
    "mySimpleNeuron.helloNeuron()"
   ]
  },
  {
   "cell_type": "code",
   "execution_count": 63,
   "metadata": {},
   "outputs": [
    {
     "name": "stdout",
     "output_type": "stream",
     "text": "0\n5\n"
    }
   ],
   "source": [
    "# class LinearNeuronStart\n",
    "class linearNeuronStart:\n",
    "    '''__init__ method takes 2 weights and input x'''\n",
    "    '''input x has to be a 1-dimension numpy array of size 2 for now'''\n",
    "    def __init__(self,weigth0,weigth1,input_x):\n",
    "        self.w0 = weigth0\n",
    "        self.w1 = weigth1\n",
    "        self.bias = 1\n",
    "        self.output = 0\n",
    "        self.x0 = input_x[0]\n",
    "        self.x1 =input_x[1]\n",
    "\n",
    "    ''' activation method calculate a linear combination'''\n",
    "    ''' input_x is passed as parameter of linearActivate method after object creation'''\n",
    "    def linearActivate(self):\n",
    "        self.output = self.bias + self.w0 * self.x0 + self.w1 * self.x1\n",
    "\n",
    "# create an object from class LinearNeuronStart to test class\n",
    "x = [2,2]\n",
    "myLinNeuron = linearNeuronStart(1,1,x)\n",
    "print(myLinNeuron.output)\n",
    "myLinNeuron.linearActivate()\n",
    "print(myLinNeuron.output)"
   ]
  },
  {
   "cell_type": "code",
   "execution_count": 65,
   "metadata": {},
   "outputs": [
    {
     "name": "stdout",
     "output_type": "stream",
     "text": "0\n5\n"
    }
   ],
   "source": [
    "# class linearNeuron\n",
    "class linearNeuron:\n",
    "    '''__init__ method takes 2 weights and input x'''\n",
    "    '''input x has to be a 1-dimension numpy array of size 2 for now'''\n",
    "    def __init__(self,weigth0,weigth1):\n",
    "        self.w0 = weigth0\n",
    "        self.w1 = weigth1\n",
    "        self.bias = 1\n",
    "        self.output = 0\n",
    "\n",
    "    ''' activation method calculate a linear combination'''\n",
    "    ''' input_x is passed as parameter of linearActivate method after object creation'''\n",
    "    def linearActivate(self,input_x):\n",
    "        self.output = self.bias + self.w0 * input_x[0] + self.w1 * input_x[1]\n",
    "\n",
    "# create an object from class linearNeuron to test class\n",
    "x = [2,2]\n",
    "myLinNeuron = linearNeuron(1,1)\n",
    "print(myLinNeuron.output)\n",
    "myLinNeuron.linearActivate(x)\n",
    "print(myLinNeuron.output)"
   ]
  },
  {
   "cell_type": "code",
   "execution_count": 99,
   "metadata": {},
   "outputs": [
    {
     "name": "stdout",
     "output_type": "stream",
     "text": "[1, 1, 1, 1, 1, 1, 1, 1]\n18\n"
    }
   ],
   "source": [
    "class inputDimLinearNeuron:\n",
    "    '''__init__ method takes no weight but input x to get length'''\n",
    "    ''' w is a list of weight, bias is a scalar value''' \n",
    "    ''' output is the output of the Neuron initiated at 0'''\n",
    "    def __init__(self,input_length):\n",
    "        self.bias = 10\n",
    "        self.output = 0\n",
    "        self.w = []\n",
    "        for i in range(0,input_length):\n",
    "            self.w.append(1)\n",
    "\n",
    "    ''' linearActivate method calculate the linear combination of x and weights '''\n",
    "    ''' init output to bias value, then adding the linear combination of w[i]x[i]'''\n",
    "    def linearActivate(self,x):\n",
    "        self.output = self.bias\n",
    "        for i in range(0,len(self.w)):\n",
    "            self.output = self.output + self.w[i]*x[i]\n",
    "\n",
    "# create an inputDimLinearNeuron and test\n",
    "x1 = np.array([1,1,1,1,1,1,1,1])\n",
    "myInputDimLinearNeuron1 = inputDimLinearNeuron(len(x1))\n",
    "print(myInputDimLinearNeuron1.w)\n",
    "myInputDimLinearNeuron1.linearActivate(x1)\n",
    "print(myInputDimLinearNeuron1.output)"
   ]
  },
  {
   "cell_type": "code",
   "execution_count": 20,
   "metadata": {},
   "outputs": [
    {
     "name": "stdout",
     "output_type": "stream",
     "text": "[1, 1, 1, 1, 1, 1, 1, 1]\n-4\n-4\n0.01798620996209156\n0.01798620996209156\n0\n0\n"
    }
   ],
   "source": [
    "class multiActivateLinearNeuron:\n",
    "    '''__init__ method takes no weight but input x to get length'''\n",
    "    ''' w is a list of weight, bias is a scalar value''' \n",
    "    ''' output is the output of the Neuron initiated at 0'''\n",
    "    def __init__(self,input_length):\n",
    "        self.bias = 10\n",
    "        self.output = 0\n",
    "        self.w = []\n",
    "        for i in range(0,input_length):\n",
    "            self.w.append(1)\n",
    "\n",
    "    ''' linearActivate method calculate the linear combination of x and weights '''\n",
    "    ''' init output to bias value, then adding the linear combination of w[i]x[i]'''\n",
    "    def linearActivate(self,x):\n",
    "        self.output = self.bias\n",
    "        for i in range(0,len(self.w)):\n",
    "            self.output = self.output + self.w[i]*x[i]\n",
    "        return self.output\n",
    "\n",
    "    def sigmoidActivate(self,x):\n",
    "        self.output = self.bias\n",
    "        test='test'\n",
    "        for i in range(0,len(self.w)):\n",
    "            self.output = self.output + self.w[i]*x[i]\n",
    "        self.output = 1 / (1 + np.exp(-self.output))\n",
    "        return self.output\n",
    "\n",
    "    def reluActivate(self,x):\n",
    "        self.output = self.bias\n",
    "        for i in range(0,len(self.w)):\n",
    "            self.output = self.output + self.w[i]*x[i]\n",
    "        if (self.output > 0):\n",
    "            self.output = self.output\n",
    "        else:\n",
    "            self.output = 0\n",
    "        return self.output\n",
    "\n",
    "# create an inputDimLinearNeuron and test\n",
    "x1 = np.array([1,1,1,1,1,1,-10,-10])\n",
    "myMultiActivateNeuron = multiActivateLinearNeuron(len(x1))\n",
    "\n",
    "# weigths\n",
    "print(myMultiActivateNeuron.w)\n",
    "\n",
    "# linearActivate method\n",
    "linearOutput = myMultiActivateNeuron.linearActivate(x1)\n",
    "print(myMultiActivateNeuron.output)\n",
    "print(linearOutput)\n",
    "# sigmoidActivate method\n",
    "sigmoidOutput = myMultiActivateNeuron.sigmoidActivate(x1)\n",
    "print(myMultiActivateNeuron.output)\n",
    "print(sigmoidOutput)\n",
    "# reluActivate method\n",
    "reluOutput = myMultiActivateNeuron.reluActivate(x1)\n",
    "print(myMultiActivateNeuron.output)\n",
    "print(reluOutput)"
   ]
  },
  {
   "cell_type": "code",
   "execution_count": 34,
   "metadata": {},
   "outputs": [],
   "source": [
    "class testNeuron:\n",
    "    '''__init__ method takes no weight but input x to get length'''\n",
    "    ''' w is a list of weight, bias is a scalar value''' \n",
    "    ''' output is the output of the Neuron initiated at 0'''\n",
    "    def __init__(self,input_length):\n",
    "        self.bias = 10\n",
    "        self.output = 0\n",
    "        self.w = []\n",
    "        for i in range(0,input_length):\n",
    "            self.w.append(1)\n",
    "\n",
    "    ''' linearActivate method calculate the linear combination of x and weights '''\n",
    "    ''' init output to bias value, then adding the linear combination of w[i]x[i]'''\n",
    "    def linearActivate(self,x):\n",
    "        self.output = self.bias\n",
    "        for i in range(0,len(self.w)):\n",
    "            self.output = self.output + self.w[i]*x[i]\n",
    "        return self.output\n",
    "\n",
    "    ''' sigmoidActivate method calculate the sigmoid of the linear combination of x and weigths'''\n",
    "    '''sigmoid function defines as 1 / (1+exp(-x))'''\n",
    "    def sigmoidActivate(self,x):\n",
    "        self.output = self.bias\n",
    "        test='test'\n",
    "        for i in range(0,len(self.w)):\n",
    "            self.output = self.output + self.w[i]*x[i]\n",
    "        self.output = 1 / (1 + np.exp(-self.output))\n",
    "        return self.output\n",
    "\n",
    "    '''reluActivate method apply the relu operator/function on the linear combination of x and weights'''\n",
    "    ''' relu output x if positive, 0 else'''\n",
    "    def reluActivate(self,x):\n",
    "        self.output = self.bias\n",
    "        for i in range(0,len(self.w)):\n",
    "            self.output = self.output + self.w[i]*x[i]\n",
    "        if (self.output > 0):\n",
    "            self.output = self.output\n",
    "        else:\n",
    "            self.output = 0\n",
    "        return self.output"
   ]
  },
  {
   "cell_type": "code",
   "execution_count": 35,
   "metadata": {},
   "outputs": [
    {
     "name": "stdout",
     "output_type": "stream",
     "text": "[1, 1, 1, 1, 1, 1, 1, 1]\n-4\n-4\n0.01798620996209156\n0.01798620996209156\n0\n0\n"
    }
   ],
   "source": [
    "# create an inputDimLinearNeuron and test\n",
    "x1 = np.array([1,1,1,1,1,1,-10,-10])\n",
    "myNeuron = testNeuron(len(x1))\n",
    "\n",
    "# check weigths\n",
    "print(myNeuron.w)\n",
    "\n",
    "# linearActivate method\n",
    "linearOutput = myNeuron.linearActivate(x1)\n",
    "print(myNeuron.output)\n",
    "print(linearOutput)\n",
    "# sigmoidActivate method\n",
    "sigmoidOutput = myNeuron.sigmoidActivate(x1)\n",
    "print(myNeuron.output)\n",
    "print(sigmoidOutput)\n",
    "# reluActivate method\n",
    "reluOutput = myNeuron.reluActivate(x1)\n",
    "print(myNeuron.output)\n",
    "print(reluOutput)"
   ]
  },
  {
   "cell_type": "code",
   "execution_count": 32,
   "metadata": {},
   "outputs": [
    {
     "data": {
      "text/plain": "array([0.47742167, 0.22535901, 0.51938311, 0.76162018, 0.11058743])"
     },
     "execution_count": 32,
     "metadata": {},
     "output_type": "execute_result"
    }
   ],
   "source": [
    "np.random.rand(5)"
   ]
  },
  {
   "cell_type": "code",
   "execution_count": 36,
   "metadata": {},
   "outputs": [],
   "source": [
    "class Neuron:\n",
    "    '''__init__ method takes no weight but input x to get length'''\n",
    "    ''' w is a list of weight, bias is a scalar value''' \n",
    "    ''' output is the output of the Neuron initiated at 0'''\n",
    "    def __init__(self,input_length):\n",
    "        self.bias = 10\n",
    "        self.output = 0\n",
    "        self.w = np.random.rand(input_length)\n",
    "\n",
    "    ''' linearActivate method calculate the linear combination of x and weights '''\n",
    "    ''' init output to bias value, then adding the linear combination of w[i]x[i]'''\n",
    "    def linearActivate(self,x):\n",
    "        self.output = self.bias\n",
    "        for i in range(0,len(self.w)):\n",
    "            self.output = self.output + self.w[i]*x[i]\n",
    "        return self.output\n",
    "\n",
    "    ''' sigmoidActivate method calculate the sigmoid of the linear combination of x and weigths'''\n",
    "    '''sigmoid function defines as 1 / (1+exp(-x))'''\n",
    "    def sigmoidActivate(self,x):\n",
    "        self.output = self.bias\n",
    "        test='test'\n",
    "        for i in range(0,len(self.w)):\n",
    "            self.output = self.output + self.w[i]*x[i]\n",
    "        self.output = 1 / (1 + np.exp(-self.output))\n",
    "        return self.output\n",
    "\n",
    "    '''reluActivate method apply the relu operator/function on the linear combination of x and weights'''\n",
    "    ''' relu output x if positive, 0 else'''\n",
    "    def reluActivate(self,x):\n",
    "        self.output = self.bias\n",
    "        for i in range(0,len(self.w)):\n",
    "            self.output = self.output + self.w[i]*x[i]\n",
    "        if (self.output > 0):\n",
    "            self.output = self.output\n",
    "        else:\n",
    "            self.output = 0\n",
    "        return self.output"
   ]
  },
  {
   "cell_type": "code",
   "execution_count": 57,
   "metadata": {},
   "outputs": [
    {
     "name": "stdout",
     "output_type": "stream",
     "text": "2.259706891960241\n2.2301147346840313\n\n\n12.259706891960242\n0.9999952611289743\n12.259706891960242\n\n\n12.230114734684033\n0.9999951188007283\n12.230114734684033\n"
    }
   ],
   "source": [
    "# init Neuron1\n",
    "Neuron1 = Neuron(5)\n",
    "neuron1W = Neuron1.w # get randomly generated weights\n",
    "print(np.sum(neuron1W)) # check sum of weight\n",
    "\n",
    "# init Neuron2\n",
    "Neuron2 = Neuron(5)\n",
    "neuron2W = Neuron2.w # get randomly generated weights\n",
    "print(np.sum(neuron2W)) # check sum of weight\n",
    "\n",
    "print(\"\\n\")\n",
    "# defines x\n",
    "x = [1,1,1,1,1] # passing x with 1 only allows to ckeck linearActivate method\n",
    "\n",
    "#check methods\n",
    "print(Neuron1.linearActivate(x))\n",
    "print(Neuron1.sigmoidActivate(x))\n",
    "print(Neuron1.reluActivate(x))\n",
    "print(\"\\n\")\n",
    "print(Neuron2.linearActivate(x))\n",
    "print(Neuron2.sigmoidActivate(x))\n",
    "print(Neuron2.reluActivate(x))"
   ]
  },
  {
   "cell_type": "code",
   "execution_count": null,
   "metadata": {},
   "outputs": [],
   "source": []
  }
 ]
}